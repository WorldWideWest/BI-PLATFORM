{
 "cells": [
  {
   "cell_type": "code",
   "execution_count": 1,
   "id": "australian-conjunction",
   "metadata": {},
   "outputs": [],
   "source": [
    "import numpy as np\n",
    "import pandas as pd\n",
    "import matplotlib.pyplot as plt\n",
    "import seaborn as sns\n",
    "\n",
    "from scripts.parser import Application\n",
    "from sklearn.preprocessing import MinMaxScaler\n",
    "sns.set()"
   ]
  },
  {
   "cell_type": "code",
   "execution_count": 2,
   "id": "indian-differential",
   "metadata": {},
   "outputs": [],
   "source": [
    "app = Application()\n",
    "scaler = MinMaxScaler()"
   ]
  },
  {
   "cell_type": "code",
   "execution_count": 7,
   "id": "first-better",
   "metadata": {},
   "outputs": [
    {
     "data": {
      "text/html": [
       "<div>\n",
       "<style scoped>\n",
       "    .dataframe tbody tr th:only-of-type {\n",
       "        vertical-align: middle;\n",
       "    }\n",
       "\n",
       "    .dataframe tbody tr th {\n",
       "        vertical-align: top;\n",
       "    }\n",
       "\n",
       "    .dataframe thead th {\n",
       "        text-align: right;\n",
       "    }\n",
       "</style>\n",
       "<table border=\"1\" class=\"dataframe\">\n",
       "  <thead>\n",
       "    <tr style=\"text-align: right;\">\n",
       "      <th></th>\n",
       "      <th>Date</th>\n",
       "      <th>City</th>\n",
       "      <th>Customer type</th>\n",
       "      <th>Gender</th>\n",
       "      <th>Product line</th>\n",
       "      <th>Unit price</th>\n",
       "      <th>Quantity</th>\n",
       "      <th>Tax 5%</th>\n",
       "      <th>Total</th>\n",
       "      <th>Payment</th>\n",
       "      <th>cogs</th>\n",
       "      <th>gross margin percentage</th>\n",
       "      <th>gross income</th>\n",
       "      <th>Rating</th>\n",
       "    </tr>\n",
       "  </thead>\n",
       "  <tbody>\n",
       "    <tr>\n",
       "      <th>0</th>\n",
       "      <td>1/5/2019</td>\n",
       "      <td>Yangon</td>\n",
       "      <td>Member</td>\n",
       "      <td>Female</td>\n",
       "      <td>Health and beauty</td>\n",
       "      <td>74.69</td>\n",
       "      <td>7</td>\n",
       "      <td>26.1415</td>\n",
       "      <td>548.9715</td>\n",
       "      <td>Ewallet</td>\n",
       "      <td>522.83</td>\n",
       "      <td>4.761905</td>\n",
       "      <td>26.1415</td>\n",
       "      <td>9.1</td>\n",
       "    </tr>\n",
       "    <tr>\n",
       "      <th>1</th>\n",
       "      <td>3/8/2019</td>\n",
       "      <td>Naypyitaw</td>\n",
       "      <td>Normal</td>\n",
       "      <td>Female</td>\n",
       "      <td>Electronic accessories</td>\n",
       "      <td>15.28</td>\n",
       "      <td>5</td>\n",
       "      <td>3.8200</td>\n",
       "      <td>80.2200</td>\n",
       "      <td>Cash</td>\n",
       "      <td>76.40</td>\n",
       "      <td>4.761905</td>\n",
       "      <td>3.8200</td>\n",
       "      <td>9.6</td>\n",
       "    </tr>\n",
       "    <tr>\n",
       "      <th>2</th>\n",
       "      <td>3/3/2019</td>\n",
       "      <td>Yangon</td>\n",
       "      <td>Normal</td>\n",
       "      <td>Male</td>\n",
       "      <td>Home and lifestyle</td>\n",
       "      <td>46.33</td>\n",
       "      <td>7</td>\n",
       "      <td>16.2155</td>\n",
       "      <td>340.5255</td>\n",
       "      <td>Credit card</td>\n",
       "      <td>324.31</td>\n",
       "      <td>4.761905</td>\n",
       "      <td>16.2155</td>\n",
       "      <td>7.4</td>\n",
       "    </tr>\n",
       "    <tr>\n",
       "      <th>3</th>\n",
       "      <td>1/27/2019</td>\n",
       "      <td>Yangon</td>\n",
       "      <td>Member</td>\n",
       "      <td>Male</td>\n",
       "      <td>Health and beauty</td>\n",
       "      <td>58.22</td>\n",
       "      <td>8</td>\n",
       "      <td>23.2880</td>\n",
       "      <td>489.0480</td>\n",
       "      <td>Ewallet</td>\n",
       "      <td>465.76</td>\n",
       "      <td>4.761905</td>\n",
       "      <td>23.2880</td>\n",
       "      <td>8.4</td>\n",
       "    </tr>\n",
       "    <tr>\n",
       "      <th>4</th>\n",
       "      <td>2/8/2019</td>\n",
       "      <td>Yangon</td>\n",
       "      <td>Normal</td>\n",
       "      <td>Male</td>\n",
       "      <td>Sports and travel</td>\n",
       "      <td>86.31</td>\n",
       "      <td>7</td>\n",
       "      <td>30.2085</td>\n",
       "      <td>634.3785</td>\n",
       "      <td>Ewallet</td>\n",
       "      <td>604.17</td>\n",
       "      <td>4.761905</td>\n",
       "      <td>30.2085</td>\n",
       "      <td>5.3</td>\n",
       "    </tr>\n",
       "  </tbody>\n",
       "</table>\n",
       "</div>"
      ],
      "text/plain": [
       "        Date       City Customer type  Gender            Product line  \\\n",
       "0   1/5/2019     Yangon        Member  Female       Health and beauty   \n",
       "1   3/8/2019  Naypyitaw        Normal  Female  Electronic accessories   \n",
       "2   3/3/2019     Yangon        Normal    Male      Home and lifestyle   \n",
       "3  1/27/2019     Yangon        Member    Male       Health and beauty   \n",
       "4   2/8/2019     Yangon        Normal    Male       Sports and travel   \n",
       "\n",
       "   Unit price  Quantity   Tax 5%     Total      Payment    cogs  \\\n",
       "0       74.69         7  26.1415  548.9715      Ewallet  522.83   \n",
       "1       15.28         5   3.8200   80.2200         Cash   76.40   \n",
       "2       46.33         7  16.2155  340.5255  Credit card  324.31   \n",
       "3       58.22         8  23.2880  489.0480      Ewallet  465.76   \n",
       "4       86.31         7  30.2085  634.3785      Ewallet  604.17   \n",
       "\n",
       "   gross margin percentage  gross income  Rating  \n",
       "0                 4.761905       26.1415     9.1  \n",
       "1                 4.761905        3.8200     9.6  \n",
       "2                 4.761905       16.2155     7.4  \n",
       "3                 4.761905       23.2880     8.4  \n",
       "4                 4.761905       30.2085     5.3  "
      ]
     },
     "execution_count": 7,
     "metadata": {},
     "output_type": "execute_result"
    }
   ],
   "source": [
    "rawData = app.Import('dataset/rawdata')\n",
    "rawData.head()"
   ]
  },
  {
   "cell_type": "code",
   "execution_count": 28,
   "id": "golden-pocket",
   "metadata": {},
   "outputs": [],
   "source": [
    "rawData['Date'] = pd.to_datetime(rawData['Date']).dt.date\n",
    "rawData = rawData.groupby('Date').sum()"
   ]
  },
  {
   "cell_type": "code",
   "execution_count": 29,
   "id": "confidential-headset",
   "metadata": {},
   "outputs": [],
   "source": [
    "trainingData, testingData = app.Split(rawData)"
   ]
  },
  {
   "cell_type": "code",
   "execution_count": 30,
   "id": "annoying-cheese",
   "metadata": {},
   "outputs": [],
   "source": [
    "trainingSet = scaler.fit_transform(trainingData.reshape(-1, 1))\n",
    "xTrain, yTrain = app.TrainingSplit(trainingSet)"
   ]
  },
  {
   "cell_type": "code",
   "execution_count": 31,
   "id": "stylish-scottish",
   "metadata": {},
   "outputs": [],
   "source": [
    "inputs = app.GetInputs(trainingData, testingData, days = 1)\n",
    "inputs = scaler.fit_transform(inputs.reshape(-1, 1))"
   ]
  },
  {
   "cell_type": "code",
   "execution_count": 32,
   "id": "private-playlist",
   "metadata": {},
   "outputs": [],
   "source": [
    "xTest, yTest = app.TestingSplit(inputs, 1, len(testingData))"
   ]
  },
  {
   "cell_type": "code",
   "execution_count": 33,
   "id": "proof-colon",
   "metadata": {},
   "outputs": [],
   "source": [
    "xTrain = app.Reshape(xTrain, 1)\n",
    "xTest = app.Reshape(xTest, 1)"
   ]
  },
  {
   "cell_type": "code",
   "execution_count": 34,
   "id": "powered-organizer",
   "metadata": {},
   "outputs": [
    {
     "name": "stdout",
     "output_type": "stream",
     "text": [
      "(18, 1, 1) (70, 1, 1)\n"
     ]
    }
   ],
   "source": [
    "print(xTest.shape, xTrain.shape)"
   ]
  },
  {
   "cell_type": "markdown",
   "id": "rising-pillow",
   "metadata": {},
   "source": [
    "## Network"
   ]
  },
  {
   "cell_type": "code",
   "execution_count": 36,
   "id": "electric-alloy",
   "metadata": {},
   "outputs": [],
   "source": [
    "import tensorflow as tf"
   ]
  },
  {
   "cell_type": "code",
   "execution_count": 37,
   "id": "seventh-albany",
   "metadata": {},
   "outputs": [
    {
     "data": {
      "text/plain": [
       "'2.4.1'"
      ]
     },
     "execution_count": 37,
     "metadata": {},
     "output_type": "execute_result"
    }
   ],
   "source": [
    "tf.__version__"
   ]
  },
  {
   "cell_type": "code",
   "execution_count": 38,
   "id": "impressed-gilbert",
   "metadata": {},
   "outputs": [],
   "source": [
    "model = tf.keras.models.Sequential()"
   ]
  },
  {
   "cell_type": "code",
   "execution_count": 39,
   "id": "removable-transition",
   "metadata": {},
   "outputs": [],
   "source": [
    "units = 50\n",
    "dropout = 0.25"
   ]
  },
  {
   "cell_type": "code",
   "execution_count": 40,
   "id": "instructional-decline",
   "metadata": {},
   "outputs": [],
   "source": [
    "model.add(tf.keras.layers.LSTM(units=units, return_sequences=True, input_shape=(xTrain.shape[1], 1)))\n",
    "model.add(tf.keras.layers.Dropout(dropout))\n",
    "\n",
    "model.add(tf.keras.layers.LSTM(units=units, return_sequences=True))\n",
    "model.add(tf.keras.layers.Dropout(dropout))\n",
    "\n",
    "model.add(tf.keras.layers.LSTM(units=units, return_sequences=True))\n",
    "model.add(tf.keras.layers.Dropout(dropout))\n",
    "\n",
    "model.add(tf.keras.layers.LSTM(units=units))\n",
    "model.add(tf.keras.layers.Dropout(dropout))\n",
    "\n",
    "model.add(tf.keras.layers.Dense(units=1))"
   ]
  },
  {
   "cell_type": "code",
   "execution_count": 41,
   "id": "overall-situation",
   "metadata": {},
   "outputs": [
    {
     "name": "stdout",
     "output_type": "stream",
     "text": [
      "Epoch 1/100\n",
      "3/3 [==============================] - 7s 791ms/step - loss: 0.2098 - val_loss: 0.1798\n",
      "Epoch 2/100\n",
      "3/3 [==============================] - 0s 73ms/step - loss: 0.2274 - val_loss: 0.1718\n",
      "Epoch 3/100\n",
      "3/3 [==============================] - 0s 72ms/step - loss: 0.2099 - val_loss: 0.1635\n",
      "Epoch 4/100\n",
      "3/3 [==============================] - 0s 71ms/step - loss: 0.1824 - val_loss: 0.1549\n",
      "Epoch 5/100\n",
      "3/3 [==============================] - 0s 71ms/step - loss: 0.1963 - val_loss: 0.1457\n",
      "Epoch 6/100\n",
      "3/3 [==============================] - 0s 73ms/step - loss: 0.1818 - val_loss: 0.1361\n",
      "Epoch 7/100\n",
      "3/3 [==============================] - 0s 71ms/step - loss: 0.1602 - val_loss: 0.1259\n",
      "Epoch 8/100\n",
      "3/3 [==============================] - 0s 75ms/step - loss: 0.1585 - val_loss: 0.1150\n",
      "Epoch 9/100\n",
      "3/3 [==============================] - 0s 93ms/step - loss: 0.1382 - val_loss: 0.1037\n",
      "Epoch 10/100\n",
      "3/3 [==============================] - 0s 83ms/step - loss: 0.1238 - val_loss: 0.0925\n",
      "Epoch 11/100\n",
      "3/3 [==============================] - 0s 77ms/step - loss: 0.0974 - val_loss: 0.0820\n",
      "Epoch 12/100\n",
      "3/3 [==============================] - 0s 85ms/step - loss: 0.0805 - val_loss: 0.0734\n",
      "Epoch 13/100\n",
      "3/3 [==============================] - 0s 103ms/step - loss: 0.0732 - val_loss: 0.0688\n",
      "Epoch 14/100\n",
      "3/3 [==============================] - 0s 86ms/step - loss: 0.0639 - val_loss: 0.0704\n",
      "Epoch 15/100\n",
      "3/3 [==============================] - 0s 78ms/step - loss: 0.0657 - val_loss: 0.0762\n",
      "Epoch 16/100\n",
      "3/3 [==============================] - 0s 76ms/step - loss: 0.0612 - val_loss: 0.0824\n",
      "Epoch 17/100\n",
      "3/3 [==============================] - 0s 80ms/step - loss: 0.0632 - val_loss: 0.0870\n",
      "Epoch 18/100\n",
      "3/3 [==============================] - 0s 100ms/step - loss: 0.0650 - val_loss: 0.0842\n",
      "Restoring model weights from the end of the best epoch.\n",
      "Epoch 00018: early stopping\n"
     ]
    },
    {
     "data": {
      "text/plain": [
       "<tensorflow.python.keras.callbacks.History at 0x7fd8496d62e0>"
      ]
     },
     "execution_count": 41,
     "metadata": {},
     "output_type": "execute_result"
    }
   ],
   "source": [
    "model.compile(optimizer='adam', loss='mean_squared_error')\n",
    "model.fit(x=xTrain, y=yTrain, epochs=100, batch_size=32, validation_data=(xTest, yTest), callbacks=[\n",
    "    tf.keras.callbacks.EarlyStopping(\n",
    "        monitor='val_loss',\n",
    "        patience=5,\n",
    "        verbose=2,\n",
    "        mode='min',\n",
    "        restore_best_weights=True)])"
   ]
  },
  {
   "cell_type": "code",
   "execution_count": 42,
   "id": "optical-serial",
   "metadata": {},
   "outputs": [],
   "source": [
    "prediction = model.predict(xTest)\n",
    "prediction = scaler.inverse_transform(prediction)\n",
    "yTest = scaler.inverse_transform(yTest.reshape(-1, 1))"
   ]
  },
  {
   "cell_type": "code",
   "execution_count": 47,
   "id": "representative-showcase",
   "metadata": {},
   "outputs": [
    {
     "data": {
      "image/png": "[encoded data removed]",
      "text/plain": [
       "<Figure size 720x576 with 1 Axes>"
      ]
     },
     "metadata": {},
     "output_type": "display_data"
    }
   ],
   "source": [
    "plt.figure(figsize=(10, 8))\n",
    "\n",
    "plt.plot(yTest, color='#001024', label = 'Actual Sales', linewidth=2)\n",
    "plt.plot(prediction, color=\"#FF800B\", label = 'Predicted Sales', linewidth = 2)\n",
    "\n",
    "plt.title('Sales per Day', fontsize = 14, fontweight = 'bold')\n",
    "plt.xlabel('Day', fontsize = 12, fontweight = 'bold')\n",
    "plt.xlim(left=int(0), right=int(20))\n",
    "plt.ylabel('Amount of money', fontsize = 12, fontweight = 'bold')\n",
    "plt.legend(loc='upper left')\n",
    "\n",
    "plt.show()"
   ]
  },
  {
   "cell_type": "code",
   "execution_count": null,
   "id": "ignored-barbados",
   "metadata": {},
   "outputs": [],
   "source": []
  }
 ],
 "metadata": {
  "kernelspec": {
   "display_name": "Python 3",
   "language": "python",
   "name": "python3"
  },
  "language_info": {
   "codemirror_mode": {
    "name": "ipython",
    "version": 3
   },
   "file_extension": ".py",
   "mimetype": "text/x-python",
   "name": "python",
   "nbconvert_exporter": "python",
   "pygments_lexer": "ipython3",
   "version": "3.8.5"
  }
 },
 "nbformat": 4,
 "nbformat_minor": 5
}
